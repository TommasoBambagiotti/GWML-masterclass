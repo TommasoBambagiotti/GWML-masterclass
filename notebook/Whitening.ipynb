{
 "cells": [
  {
   "cell_type": "markdown",
   "id": "3964af29-60b2-4d5b-8567-f02f08ef5e0f",
   "metadata": {},
   "source": [
    "# Whitening procedure"
   ]
  },
  {
   "cell_type": "markdown",
   "id": "6e14c6a4-dd75-48fb-a514-fe08d3023331",
   "metadata": {},
   "source": [
    "The purpose of whitening is to modify the data such that the noise is spectrally flat, meaning it has an equal amount of power across all frequencies. This is done by applying a filter that compensates for the frequency-dependent response of the detector. The whitening process significantly improves the sensitivity of the detectors, enabling scientists to extract weak signals from the noise and identify potential gravitational wave events.\n",
    "Whitening can be done using techniques in frequency domain or in time-domain\n",
    "* ### Whitening in frequency domain\n",
    "    The whitening process involves several steps. First, the data is transformed into the frequency domain using techniques such as fast Fourier transforms (FFT). Then, the noise spectrum is estimated by analyzing the power spectral density of the data. This spectrum represents the distribution of noise power across different frequencies.\n",
    "Next, an inverse filter is applied to the data, which modifies the spectrum of the signal to flatten the noise. Essentially, the inverse filter boosts or attenuates specific frequency components to compensate for the frequency-dependent response of the detector. This equalization allows gravitational wave signals to be more easily distinguished from the noise.\n",
    "After the whitening procedure, the data is transformed back into the time domain, where it undergoes further analysis and searches for gravitational wave signals using sophisticated algorithms.\n",
    "* ### Whitening in time domain\n",
    "The parametric estimator for whitening in the time domain involves selecting a noise model, estimating its parameters from the data, and subtracting or filtering out the estimated noise component. \n",
    "In the time domain, a parametric estimator assumes a specific mathematical model or functional form for the noise. This model is typically characterized by a set of parameters that are estimated from the data. \n",
    "By fitting the model to the data, the parameters are determined, and the noise can be whitened by removing the estimated noise component. To apply a parametric estimator for whitening in the time domain, the first step is to select an appropriate model for the noise. Common choices include autoregressive (AR) models, \n",
    "autoregressive moving average (ARMA) models. These models capture different properties of the noise, such as its autocorrelation and spectral characteristics. \n",
    "Once the model is selected, the parameters of the model are estimated from the data. This estimation is typically done using methods such as maximum likelihood estimation (MLE) or least squares fitting. \n",
    "The estimated parameters describe the noise component that needs to be removed or filtered from the data. After estimating the parameters, the parametric estimator is applied to the data. The estimated noise component is subtracted or filtered out from the original data, leaving behind a whitened version of the data. This whitened data has reduced noise correlations and a more constant power spectral density, which enhances the detectability of gravitational wave signals. It's important to note that the effectiveness of the parametric estimator depends on the accuracy of the chosen noise model and the quality of the parameter estimation. If the model is a good fit for the noise characteristics and the parameter estimation is reliable, the whitening procedure can significantly improve the sensitivity of gravitational wave analysis. However, it's worth mentioning that the choice of parametric models and their applicability to gravitational wave search can be challenging. The noise in gravitational wave detectors often exhibits complex and non-stationary behavior, which may require more sophisticated modeling approaches or combinations of different models.\n",
    "While less commonly used compared to the frequency domain non-parametric methods, the parametric approach can be valuable in specific scenarios where the noise characteristics are well-modeled by the chosen parametric model.  It provides an alternative approach to whitening in gravitational wave search, aiming to enhance the detectability of gravitational wave signals by reducing noise correlations and improving the data quality.\n"
   ]
  },
  {
   "cell_type": "markdown",
   "id": "572ddf1b-b9ed-42a8-910c-328886c701a2",
   "metadata": {
    "tags": []
   },
   "source": [
    "## GW data before and after the whitening"
   ]
  },
  {
   "cell_type": "markdown",
   "id": "4865ad2e-8901-4589-8ed9-f4481e38f9db",
   "metadata": {},
   "source": [
    "In the following tutorial we will use the FFT whitening used in the GW community, contained in gwpy package. If you are interested also in time domain solution, you can have a look\n",
    "at these packages:\n",
    "* https://github.com/elenacuoco/p4TSA\n",
    "* https://wdfpipe.gitlab.io/\n"
   ]
  },
  {
   "cell_type": "code",
   "execution_count": null,
   "id": "608e636e-3252-4601-a8d6-fb25383f627b",
   "metadata": {},
   "outputs": [],
   "source": []
  }
 ],
 "metadata": {
  "kernelspec": {
   "display_name": "Python 3 (ipykernel)",
   "language": "python",
   "name": "python3"
  },
  "language_info": {
   "codemirror_mode": {
    "name": "ipython",
    "version": 3
   },
   "file_extension": ".py",
   "mimetype": "text/x-python",
   "name": "python",
   "nbconvert_exporter": "python",
   "pygments_lexer": "ipython3",
   "version": "3.11.2"
  }
 },
 "nbformat": 4,
 "nbformat_minor": 5
}
